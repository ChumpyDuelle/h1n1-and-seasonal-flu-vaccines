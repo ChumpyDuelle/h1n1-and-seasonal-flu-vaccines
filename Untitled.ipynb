{
 "cells": [
  {
   "cell_type": "markdown",
   "metadata": {},
   "source": [
    "![vaccine](images/vaccine.png)"
   ]
  },
  {
   "cell_type": "markdown",
   "metadata": {},
   "source": [
    "# H1N1 and Seasonal Flu Vaccines\n",
    "\n",
    "**Author**: Ian Butler\n",
    "\n",
    "***"
   ]
  },
  {
   "cell_type": "markdown",
   "metadata": {},
   "source": [
    "## Overview\n",
    "\n",
    "A one-paragraph overview of the project, including the business problem, data, methods, results and recommendations.\n",
    "\n",
    "***"
   ]
  },
  {
   "cell_type": "markdown",
   "metadata": {},
   "source": [
    "## Business Problem\n",
    "\n",
    "Summary of the business problem we are trying to solve, and the data questions that we plan to answer to solve them.\n",
    "\n",
    "***\n",
    "\n",
    "Questions to consider:\n",
    "\n",
    "* What are the business's pain points related to ths project?\n",
    "    * The business's pain points related to this project are these:\n",
    "        * Primary: can we predict whether people got H1N1 vaccines using data collected in the National 2009 H1N1 Flu Survey?\n",
    "        * Secondary: can we infer which variables of this survey are most causing a change in vaccination status for H1N1?\n",
    "        * Tertiary: can we provide actionable recommendations to improve the rate of innoculation against H1N1?\n",
    "* How did we pick the data analysis question(s) that we did?\n",
    "    * With respect to each of the above questions, we picked the questions as a result of the following thought process:\n",
    "        * Ultimately, what we would like to be able to do is increase the population's rate of innoculation against highly infectious respiratory diseases. In order to know what would have to be done to take action in this way, we have to understand what variables are most causing a change in vaccination status for individuals, as well as which of those variables we can actually control. Finally, we can confirm whether or not our understanding of these relationships can be used to accurately predict vaccination status for individuals.\n",
    "* Why are these questions important from a business perspective?\n",
    "    * These questions are important from a business perspective because they allow public health officials to make informed decisions about what actions they can take to attempt to improve the resiliency of the population against highly infectious respiratory diseases.\n",
    "\n",
    "***"
   ]
  },
  {
   "cell_type": "markdown",
   "metadata": {},
   "source": [
    "## Data Understanding\n",
    "\n",
    "Describe the data being used for this project.\n",
    "\n",
    "***\n",
    "\n",
    "Questions to consider:\n",
    "\n",
    "* Where did the data come from?\n",
    "    * The data comes from the National 2009 H1N1 Flu Survey.\n",
    "* How do they relate to the data analysis questions?\n",
    "    * The National 2009 H1N1 Flu Survery relates to the data analysis questions in that this survey was specifically designed to develop an understanding of how people’s backgrounds, opinions, and health behaviors are related to their personal vaccination patterns.\n",
    "* What do the data represent?\n",
    "    * Each entry in the data represents the survey responses of one individual.\n",
    "* Who is in the sample?\n",
    "    * The sample is comprised of individuals from various psychographics and demographics across the United States.\n",
    "* What variable are includeed?\n",
    "    * The variables included are as follows:\n",
    "    * For all binary variables: 0 = No; 1 = Yes.\n",
    "        * respondent_id\n",
    "            * a unique and random identifier\n",
    "        * h1n1_concern - Level of concern about the H1N1 flu.\n",
    "            * 0 = Not at all concerned;\n",
    "            * 1 = Not very concerned;\n",
    "            * 2 = Somewhat concerned;\n",
    "            * 3 = Very concerned.\n",
    "        * h1n1_knowledge - Level of knowledge about the H1N1 flu.\n",
    "            * 0 = No knowledge;\n",
    "            * 1 = A little knowledge;\n",
    "            * 2 = A lot of knowledge.\n",
    "        * behavioral_antiviral_meds - Has taken antiviral medications.\n",
    "            * (binary)\n",
    "        * behavioral_avoidance - Has avoided close contact with other with flu-like symptoms.\n",
    "            * (binary)\n",
    "        * behavioral_face_mask - Has bought a face mask.\n",
    "            * (binary)\n",
    "        * behavioral_wash_hands - Has frequently washed hands or used hand sanitizer.\n",
    "            * (binary)\n",
    "        * behavioral_large_gatherings - Has reduced time at large gatherings.\n",
    "            * (binary)\n",
    "        * behavioral_outside_home - Has reduced contact with people outside of own household.\n",
    "            * (binary)\n",
    "        * behavioral_touch_face - Has avoided touching eyes, nose, or mouth.\n",
    "            * (binary)\n",
    "        * doctor_recc_h1n1 - H1N1 flu vaccine was recommended by doctor.\n",
    "            * (binary)\n",
    "        * doctor_recc_seasonal - Seasonal flu vaccine was recommended by doctor.\n",
    "            * (binary)\n",
    "        * chronic_med_condition - Has any of the following chronic medical conditions: asthma or an other lung condition, diabetes, a heart condition, a kidney condition, sickle cell anemia or other anemia, a neurological or neuromuscular condition, a liver condition, or a weakened immune system caused by a chronic illness or by medicines taken for a chronic illness.\n",
    "            * (binary)\n",
    "        * child_under_6_months - Has regular close contact with a child under the age of six months.\n",
    "            * (binary)\n",
    "        * health_worker - Is a healthcare worker.\n",
    "            * (binary)\n",
    "        * health_insurance - Has health insurance.\n",
    "            * (binary)\n",
    "        * opinion_h1n1_vacc_effective - Respondent's opinion about H1N1 vaccine effectiveness.\n",
    "            * 1 = Not at all effective;\n",
    "            * 2 = Not very effective;\n",
    "            * 3 = Don't know;\n",
    "            * 4 = Somehwat effective;\n",
    "            * 5 = Very effective.\n",
    "        * opinion_h1n1_risk - Respondent's opinion about risk of getting sick with H1N1 flu without vaccine.\n",
    "            * 1 = Very low;\n",
    "            * 2 = Somewhat low;\n",
    "            * 3 = Don't know;\n",
    "            * 4 = Somewhat high;\n",
    "            * 5 = Very high.\n",
    "        * opinion_h1n1_sick_from_vacc - Respondent's worry about getting sick from taking H1N1 vaccine.\n",
    "            * 1 = Not at all worried;\n",
    "            * 2 = Not very worried;\n",
    "            * 3 = Don't know;\n",
    "            * 4 = Somewhat worried;\n",
    "            * 5 = Very worried.\n",
    "        * opinion_seas_vacc_effective - Respondent's opinion about seasonal flu vaccine effectiveness.\n",
    "            * 1 = Not at all effective;\n",
    "            * 2 = Not very effective;\n",
    "            * 3 = Don't know;\n",
    "            * 4 = Somehwat effective;\n",
    "            * 5 = Very effective.\n",
    "        * opinion_seas_risk - Respondent's opinion about risk of getting sick with seasonal flu without vaccine.\n",
    "            * 1 = Very low;\n",
    "            * 2 = Somewhat low;\n",
    "            * 3 = Don't know;\n",
    "            * 4 = Somewhat high;\n",
    "            * 5 = Very high.\n",
    "        * opinion_seas_sick_from_vacc - Respondent's worry about getting sick from taking seasonal flu vaccine.\n",
    "            * 1 = Not at all worried;\n",
    "            * 2 = Not very worried;\n",
    "            * 3 = Don't know;\n",
    "            * 4 = Somewhat worried;\n",
    "            * 5 = Very worried.\n",
    "        * age_group - Age group of respondent.\n",
    "        * education - Self-reported education level.\n",
    "        * race - Race of respondent.\n",
    "        * sex - Sex of respondent.\n",
    "        * income_poverty - Household annual income of respondent with respect to 2008 Census poverty thresholds.\n",
    "        * marital_status - Marital status of respondent.\n",
    "        * rent_or_own - Housing situation of respondent.\n",
    "        * employment_status - Employment status of respondent.\n",
    "        * hhs_geo_region - Respondent's residence using a 10-region geographic classification defined by the U.S. Dept. of Health and Human Services. Values are represented as short random character strings.\n",
    "        * census_msa - Respondent's residence within metropolitan statistical areas (MSA) as defined by the U.S. Census.\n",
    "        * household_adults - Number of *other* adults in household, top-coded to 3.\n",
    "        * household_children - Number of children in household, top-coded to 3.\n",
    "        * employment_industry - Type of industry respondent is employed in. Values are represented as short random character strings.\n",
    "        * employment_occupation - Type of occupation of respondent. Values are represented as short random character strings.\n",
    "* What is the target variable?\n",
    "    * There are two target variables in this dataset:\n",
    "        * h1n1_vaccine - Whether respondent received H1N1 flu vaccine.\n",
    "        * seasonal_vaccine - Whether respondent received seasonal flu vaccine.\n",
    "    * This project will focus on the h1n1_vaccine target, specifically.\n",
    "* What are the properties of the variables you intend to use?\n",
    "    * We intend to use all of the available variables, at least until any given variable is shown to be statistically insignificant.\n",
    "    * Most of the variables have numeric data types and will likely be left as-is. The variables which do not have numeric data types will likely be transformed using ordinal encoding or one hot encoding, as appropriate.\n",
    "\n",
    "***"
   ]
  },
  {
   "cell_type": "markdown",
   "metadata": {},
   "source": [
    "The 10 HHS geographic classification regions:"
   ]
  },
  {
   "cell_type": "markdown",
   "metadata": {},
   "source": [
    "![regional-offices.png](images/regional-offices.png)"
   ]
  },
  {
   "cell_type": "markdown",
   "metadata": {},
   "source": [
    "The above image was taken from the U.S. Department of Health and Human Services at the following URL:"
   ]
  },
  {
   "cell_type": "markdown",
   "metadata": {},
   "source": [
    "https://www.hhs.gov/about/agencies/iea/regional-offices/index.html"
   ]
  },
  {
   "cell_type": "markdown",
   "metadata": {},
   "source": [
    "A brief word on MSA:"
   ]
  },
  {
   "cell_type": "markdown",
   "metadata": {},
   "source": [
    "\"Standard delineations of metropolitan areas were first issued in 1949 by the then Bureau of the Budget (predecessor of OMB), under the designation \"standard metropolitan area\" (SMA). The term was changed to \"standard metropolitan statistical area\" (SMSA) in 1959, and to \"metropolitan statistical area\" (MSA) in 1983. The term \"metropolitan area\" (MA) was adopted in 1990 and referred collectively to metropolitan statistical areas (MSAs), consolidated metropolitan statistical areas (CMSAs), and primary metropolitan statistical areas (PMSAs). The term \"core based statistical area\" (CBSA) became effective in 2000 and refers collectively to metropolitan and micropolitan statistical areas.\""
   ]
  },
  {
   "cell_type": "markdown",
   "metadata": {},
   "source": [
    "The above excerpt on MSA was taken from the United States Census Bureau at the following URL:"
   ]
  },
  {
   "cell_type": "markdown",
   "metadata": {},
   "source": [
    "https://www.census.gov/programs-surveys/metro-micro/about.html"
   ]
  },
  {
   "cell_type": "code",
   "execution_count": 1,
   "metadata": {},
   "outputs": [],
   "source": [
    "# Import standard packages\n",
    "import pandas as pd\n",
    "import numpy as np\n",
    "import matplotlib.pyplot as plt\n",
    "import seaborn as sns\n",
    "\n",
    "%matplotlib inline"
   ]
  },
  {
   "cell_type": "code",
   "execution_count": 2,
   "metadata": {},
   "outputs": [],
   "source": [
    "# Here you run your code to explore the data"
   ]
  },
  {
   "cell_type": "markdown",
   "metadata": {},
   "source": [
    "## Data Preparation\n",
    "\n",
    "Desscribe and justify the process for preparing the data for analysis.\n",
    "\n",
    "***\n",
    "\n",
    "Questions to consider:\n",
    "\n",
    "* Were there variables you dropped or created?\n",
    "* How did you address missing values or outliers?\n",
    "* Why are these choices appropriate given the data and the business problem?\n",
    "\n",
    "***"
   ]
  },
  {
   "cell_type": "code",
   "execution_count": 3,
   "metadata": {},
   "outputs": [],
   "source": [
    "# Here you run your code to clean the data"
   ]
  },
  {
   "cell_type": "markdown",
   "metadata": {},
   "source": [
    "## Data Modeling\n",
    "\n",
    "Describe and justify the process for analyzing or modeling the data.\n",
    "\n",
    "***\n",
    "\n",
    "Questions to consider:\n",
    "\n",
    "* How did you analyze or model the data?\n",
    "* How did you iterate on your initial approach to make it better?\n",
    "* Why are these choices appropriate given the data and the business problem?\n",
    "\n",
    "***"
   ]
  },
  {
   "cell_type": "code",
   "execution_count": 4,
   "metadata": {},
   "outputs": [],
   "source": [
    "# Here you run your code to model the data"
   ]
  },
  {
   "cell_type": "markdown",
   "metadata": {},
   "source": [
    "##  Evaluation\n",
    "\n",
    "Evaluate how well your work solves the stated business problem.\n",
    "\n",
    "***\n",
    "\n",
    "Questions to consider:\n",
    "\n",
    "* How do you interpret the results?\n",
    "* How well does your model fir your data?\n",
    "* How much better is this than your baseline model?\n",
    "* How confident are you that your results would generalize beyond the data you have?\n",
    "* How confident are you that this model would benefit the business if put into use?\n",
    "\n",
    "***"
   ]
  },
  {
   "cell_type": "markdown",
   "metadata": {},
   "source": [
    "## Conclusions\n",
    "\n",
    "Provide your conclusions about the work you've done, including any limitations or next steps.\n",
    "\n",
    "***\n",
    "\n",
    "Questions to consider:\n",
    "\n",
    "* What would you recommend the business do as a result of this work?\n",
    "* What are some reasons why your analysis might not fully solve the business problem?\n",
    "* What else could you do  in the future to improve this project?\n",
    "\n",
    "***"
   ]
  }
 ],
 "metadata": {
  "kernelspec": {
   "display_name": "Python (learn-env)",
   "language": "python",
   "name": "learn-env"
  },
  "language_info": {
   "codemirror_mode": {
    "name": "ipython",
    "version": 3
   },
   "file_extension": ".py",
   "mimetype": "text/x-python",
   "name": "python",
   "nbconvert_exporter": "python",
   "pygments_lexer": "ipython3",
   "version": "3.8.5"
  }
 },
 "nbformat": 4,
 "nbformat_minor": 4
}
